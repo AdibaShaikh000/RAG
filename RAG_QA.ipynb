{
  "nbformat": 4,
  "nbformat_minor": 0,
  "metadata": {
    "colab": {
      "provenance": []
    },
    "kernelspec": {
      "name": "python3",
      "display_name": "Python 3"
    },
    "language_info": {
      "name": "python"
    }
  },
  "cells": [
    {
      "cell_type": "markdown",
      "source": [
        "# RAG leveraging LangChain, OpenAI, and FAISS."
      ],
      "metadata": {
        "id": "qIwCsPzk-BCf"
      }
    },
    {
      "cell_type": "code",
      "execution_count": 35,
      "metadata": {
        "id": "AeJ5g9xTID54"
      },
      "outputs": [],
      "source": [
        "# Install required packages (Note: You can either the below line or install packages via requirements.txt)\n",
        "\n",
        "!pip install pypdf2 langchain faiss-cpu openai tiktoken langchain-openai"
      ]
    },
    {
      "cell_type": "code",
      "source": [
        "# Import required libraries\n",
        "\n",
        "import faiss\n",
        "from PyPDF2 import PdfReader\n",
        "from langchain_community.vectorstores import FAISS\n",
        "from langchain.text_splitter import RecursiveCharacterTextSplitter\n",
        "from langchain.embeddings.openai import OpenAIEmbeddings\n",
        "from langchain_openai import ChatOpenAI\n",
        "from langchain.chains.question_answering import load_qa_chain"
      ],
      "metadata": {
        "id": "2tNGsXqATalv"
      },
      "execution_count": 40,
      "outputs": []
    },
    {
      "cell_type": "code",
      "source": [
        "# Declare your OPEN AI api key\n",
        "\n",
        "OPEN_API_KEY = \"<Your OPEN AI key>\""
      ],
      "metadata": {
        "id": "ZL2gTp0e9nGS"
      },
      "execution_count": 41,
      "outputs": []
    },
    {
      "cell_type": "code",
      "source": [
        "# Read the input file\n",
        "\n",
        "file = open(\"resources/Approved IP Law.pdf\", \"rb\")\n",
        "pdf_reader = PdfReader(file)\n",
        "\n",
        "document_text = \"\"\n",
        "for page in pdf_reader.pages:\n",
        "  document_text += page.extract_text()\n"
      ],
      "metadata": {
        "id": "td3IRd9vKA6L"
      },
      "execution_count": null,
      "outputs": []
    },
    {
      "cell_type": "code",
      "source": [
        "# Break content into chunks\n",
        "\n",
        "text_splitter = RecursiveCharacterTextSplitter(\n",
        "    separators=\"\\n\",\n",
        "    chunk_size=1000,\n",
        "    chunk_overlap=150,\n",
        "    length_function=len\n",
        ")\n",
        "\n",
        "chunks = text_splitter.split_text(document_text)\n"
      ],
      "metadata": {
        "id": "ENlZ8iQCOT5J"
      },
      "execution_count": 24,
      "outputs": []
    },
    {
      "cell_type": "code",
      "source": [
        "# Instantiate OpenAIEmbeddings to generate embedding of the chunks\n",
        "\n",
        "embeddings = OpenAIEmbeddings(openai_api_key=OPEN_API_KEY)"
      ],
      "metadata": {
        "id": "8ItK96yMVf9B"
      },
      "execution_count": 25,
      "outputs": []
    },
    {
      "cell_type": "code",
      "source": [
        "# Establish FAISS vector store\n",
        "\n",
        "vector_store = FAISS.from_texts(chunks, embeddings)\n",
        "print(vector_store.index.ntotal)"
      ],
      "metadata": {
        "id": "D1JJglXt4QGH"
      },
      "execution_count": null,
      "outputs": []
    },
    {
      "cell_type": "code",
      "source": [
        "# Query your vector store\n",
        "\n",
        "query = \"Who is eligible to file a patent?\"\n",
        "match_chunks = vector_store.similarity_search(query)"
      ],
      "metadata": {
        "id": "ERmfndilnNWY"
      },
      "execution_count": 43,
      "outputs": []
    },
    {
      "cell_type": "code",
      "source": [
        "# Instantiate Open AI LLM model\n",
        "\n",
        "llm = ChatOpenAI(\n",
        "  openai_api_key = OPEN_API_KEY,\n",
        "  temperature = 0,\n",
        "  max_tokens = 1000,\n",
        "  model_name = \"gpt-3.5-turbo\"\n",
        ")"
      ],
      "metadata": {
        "id": "_JjiOjvkABhE"
      },
      "execution_count": null,
      "outputs": []
    },
    {
      "cell_type": "code",
      "source": [
        "# Setup the chain and run it\n",
        "\n",
        "chain = load_qa_chain(llm, chain_type=\"stuff\")\n",
        "response = chain.run(input_documents=match_chunks, question = query)\n",
        "\n",
        "print(\"Response:\", response)"
      ],
      "metadata": {
        "colab": {
          "base_uri": "https://localhost:8080/"
        },
        "id": "OWYoG9jAtpG9",
        "outputId": "18465889-0506-4376-86fd-a9be038308d1"
      },
      "execution_count": 45,
      "outputs": [
        {
          "output_type": "stream",
          "name": "stdout",
          "text": [
            "Response: Individuals who have come up with a novel invention resulting from an innovative idea or improvement that involves an inventive step and has industrial application are eligible to file a patent. Additionally, foreigners can also file for patents in the State if they are citizens of a country that reciprocates similar treatment with the State.\n"
          ]
        }
      ]
    }
  ]
}
